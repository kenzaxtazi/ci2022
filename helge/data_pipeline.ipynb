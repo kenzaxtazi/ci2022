{
 "cells": [
  {
   "cell_type": "markdown",
   "id": "5cbd44c4-7bec-41e9-ae2f-3bed3f6c0301",
   "metadata": {},
   "source": [
    "# Pipeline to create a dataset\n",
    "\n",
    "## Parameters"
   ]
  },
  {
   "cell_type": "code",
   "execution_count": null,
   "id": "04be4c44-66e3-4708-82e0-f2326a3144fa",
   "metadata": {},
   "outputs": [],
   "source": [
    "window = 5\n",
    "ver=1\n",
    "\n",
    "climate_model = 'CESM'\n",
    "num_input_time_steps = 3 \n",
    "lead_time = 3\n",
    "all_start_date = '0400-01-01'\n",
    "all_end_date = '2021-12-31'"
   ]
  },
  {
   "cell_type": "markdown",
   "id": "6911399e-c445-4de3-a353-51d2fe288445",
   "metadata": {},
   "source": [
    "## Download raw data"
   ]
  },
  {
   "cell_type": "code",
   "execution_count": null,
   "id": "54d97f17-695b-4107-8322-6ca6604717bb",
   "metadata": {},
   "outputs": [],
   "source": [
    "#download\n",
    "!curl https://zenodo.org/record/6532501/files/CESM_EA_SPI.nc?download=1 --output CESM_EA_SPI.nc\n"
   ]
  },
  {
   "cell_type": "markdown",
   "id": "c678ec0f-7271-4b60-aa98-4988bd465f21",
   "metadata": {},
   "source": [
    "## Extract data"
   ]
  },
  {
   "cell_type": "code",
   "execution_count": null,
   "id": "bf88e11d-13b2-492e-8ffe-973e3b52ea3f",
   "metadata": {},
   "outputs": [],
   "source": [
    "from tools.data_extraction import data_extraction\n",
    "data_set = data_extraction(all_start_date, all_end_date, lead_time, climate_model, num_input_time_steps, window)\n",
    "print(data_set.shape)\n"
   ]
  },
  {
   "cell_type": "markdown",
   "id": "949a1d4f-4de9-4476-aa0a-e322ba5a6e4d",
   "metadata": {},
   "source": [
    "## Sample data"
   ]
  },
  {
   "cell_type": "code",
   "execution_count": null,
   "id": "c336e9c9-afe7-4814-8bb0-3f708861525c",
   "metadata": {},
   "outputs": [],
   "source": [
    "%load_ext autoreload\n",
    "%autoreload 2\n",
    "from tools.data_creation import data_creation\n",
    "data_creation(data_set, window, ver, all_start_date, all_end_date, lead_time, climate_model, num_input_time_steps)\n"
   ]
  },
  {
   "cell_type": "markdown",
   "id": "d5767aac-7085-42ef-a18d-635abb38f35f",
   "metadata": {},
   "source": [
    "## store mean stddev"
   ]
  },
  {
   "cell_type": "code",
   "execution_count": 8,
   "id": "f8def21a-0453-4b0e-b092-46109be3715c",
   "metadata": {},
   "outputs": [
    {
     "name": "stdout",
     "output_type": "stream",
     "text": [
      "<xarray.Dataset>\n",
      "Dimensions:   (features: 80)\n",
      "Coordinates:\n",
      "  * features  (features) int64 0 1 2 3 4 5 6 7 8 ... 71 72 73 74 75 76 77 78 79\n",
      "Data variables:\n",
      "    mean      (features) float64 0.01355 0.01353 0.01347 ... 11.0 14.5 0.0161\n",
      "    stddev    (features) float64 0.9985 0.9987 0.9987 ... 3.742 5.767 0.9984\n",
      "Attributes:\n",
      "    features:  [3*window^2+month_sin+month_cos+lat+lon+y]\n"
     ]
    }
   ],
   "source": [
    "from tools.data_meanstd import data_meanstd\n",
    "data_meanstd(window, ver)\n",
    "\n"
   ]
  },
  {
   "cell_type": "code",
   "execution_count": null,
   "id": "9f0279c1-ec50-44f3-9321-254e6c268584",
   "metadata": {},
   "outputs": [],
   "source": []
  }
 ],
 "metadata": {
  "kernelspec": {
   "display_name": "Python 3 (ipykernel)",
   "language": "python",
   "name": "python3"
  },
  "language_info": {
   "codemirror_mode": {
    "name": "ipython",
    "version": 3
   },
   "file_extension": ".py",
   "mimetype": "text/x-python",
   "name": "python",
   "nbconvert_exporter": "python",
   "pygments_lexer": "ipython3",
   "version": "3.9.12"
  }
 },
 "nbformat": 4,
 "nbformat_minor": 5
}
