{
 "cells": [
  {
   "cell_type": "markdown",
   "id": "5cbd44c4-7bec-41e9-ae2f-3bed3f6c0301",
   "metadata": {},
   "source": [
    "# Pipeline to create a dataset\n",
    "\n",
    "## Parameters"
   ]
  },
  {
   "cell_type": "code",
   "execution_count": 11,
   "id": "04be4c44-66e3-4708-82e0-f2326a3144fa",
   "metadata": {},
   "outputs": [],
   "source": [
    "window = -1\n",
    "ver=1\n",
    "\n",
    "climate_model = 'CESM'\n",
    "num_input_time_steps = 3 \n",
    "lead_time = 3\n",
    "all_start_date = '0400-01-01'\n",
    "all_end_date = '2021-12-31'"
   ]
  },
  {
   "cell_type": "markdown",
   "id": "6911399e-c445-4de3-a353-51d2fe288445",
   "metadata": {},
   "source": [
    "## Download raw data"
   ]
  },
  {
   "cell_type": "raw",
   "id": "1ead556a-7513-40f0-ae99-dc54c15831a4",
   "metadata": {},
   "source": [
    "#download\n",
    "!curl \"https://zenodo.org/record/6532501/files/CESM_EA_SPI.nc?download=1\" --output CESM_EA_SPI.nc\n"
   ]
  },
  {
   "cell_type": "markdown",
   "id": "c678ec0f-7271-4b60-aa98-4988bd465f21",
   "metadata": {},
   "source": [
    "## Extract data"
   ]
  },
  {
   "cell_type": "code",
   "execution_count": 12,
   "id": "bf88e11d-13b2-492e-8ffe-973e3b52ea3f",
   "metadata": {
    "tags": []
   },
   "outputs": [
    {
     "name": "stdout",
     "output_type": "stream",
     "text": [
      "The autoreload extension is already loaded. To reload it, use:\n",
      "  %reload_ext autoreload\n",
      "(5060120, 785)\n"
     ]
    }
   ],
   "source": [
    "%load_ext autoreload\n",
    "%autoreload 2\n",
    "\n",
    "if window == -1:\n",
    "    # whole domain\n",
    "    from tools.data_extraction_whole import data_extraction_whole\n",
    "    data_set = data_extraction_whole(all_start_date, all_end_date, lead_time, climate_model, num_input_time_steps, window)\n",
    "    print(data_set.shape)\n",
    "else:\n",
    "    from tools.data_extraction import data_extraction\n",
    "    data_set = data_extraction(all_start_date, all_end_date, lead_time, climate_model, num_input_time_steps, window)\n",
    "    print(data_set.shape)\n",
    "\n"
   ]
  },
  {
   "cell_type": "markdown",
   "id": "949a1d4f-4de9-4476-aa0a-e322ba5a6e4d",
   "metadata": {},
   "source": [
    "## Sample data"
   ]
  },
  {
   "cell_type": "code",
   "execution_count": 13,
   "id": "c336e9c9-afe7-4814-8bb0-3f708861525c",
   "metadata": {},
   "outputs": [
    {
     "name": "stderr",
     "output_type": "stream",
     "text": [
      "Global seed set to 1\n"
     ]
    },
    {
     "name": "stdout",
     "output_type": "stream",
     "text": [
      "The autoreload extension is already loaded. To reload it, use:\n",
      "  %reload_ext autoreload\n",
      "<xarray.Dataset>\n",
      "Dimensions:     (sample_dim: 4047878, input_dim: 785)\n",
      "Coordinates:\n",
      "  * sample_dim  (sample_dim) int64 0 1 2 3 4 ... 4047874 4047875 4047876 4047877\n",
      "  * input_dim   (input_dim) int64 0 1 2 3 4 5 6 ... 778 779 780 781 782 783 784\n",
      "Data variables:\n",
      "    samples     (sample_dim, input_dim) float64 0.0 0.0 0.0 ... 17.0 -0.06509\n",
      "Attributes:\n",
      "    begin:                 0400-01-01\n",
      "    end:                   2021-12-31\n",
      "    climate_model:         CESM\n",
      "    num_input_time_steps:  3\n",
      "    lead_time:             3\n",
      "    unit:                  Standard Precipitation Index (SPI)\n",
      "<xarray.Dataset>\n",
      "Dimensions:     (sample_dim: 1012242, input_dim: 785)\n",
      "Coordinates:\n",
      "  * sample_dim  (sample_dim) int64 0 1 2 3 4 ... 1012238 1012239 1012240 1012241\n",
      "  * input_dim   (input_dim) int64 0 1 2 3 4 5 6 ... 778 779 780 781 782 783 784\n",
      "Data variables:\n",
      "    samples     (sample_dim, input_dim) float64 0.0 0.0 0.0 ... 19.0 -0.06925\n",
      "Attributes:\n",
      "    begin:                 0400-01-01\n",
      "    end:                   2021-12-31\n",
      "    climate_model:         CESM\n",
      "    num_input_time_steps:  3\n",
      "    lead_time:             3\n",
      "    unit:                  Standard Precipitation Index (SPI)\n"
     ]
    }
   ],
   "source": [
    "%load_ext autoreload\n",
    "%autoreload 2\n",
    "from tools.data_creation import data_creation\n",
    "data_creation(data_set, window, ver, all_start_date, all_end_date, lead_time, climate_model, num_input_time_steps)\n"
   ]
  },
  {
   "cell_type": "markdown",
   "id": "d5767aac-7085-42ef-a18d-635abb38f35f",
   "metadata": {},
   "source": [
    "## store mean stddev"
   ]
  },
  {
   "cell_type": "code",
   "execution_count": 14,
   "id": "f8def21a-0453-4b0e-b092-46109be3715c",
   "metadata": {},
   "outputs": [
    {
     "name": "stdout",
     "output_type": "stream",
     "text": [
      "The autoreload extension is already loaded. To reload it, use:\n",
      "  %reload_ext autoreload\n",
      "<xarray.Dataset>\n",
      "Dimensions:   (features: 785)\n",
      "Coordinates:\n",
      "  * features  (features) int64 0 1 2 3 4 5 6 7 ... 778 779 780 781 782 783 784\n",
      "Data variables:\n",
      "    mean      (features) float64 0.07228 0.07218 0.07212 ... 6.0 9.499 0.0161\n",
      "    stddev    (features) float64 0.9828 0.9828 0.9828 ... 3.742 5.767 0.9984\n",
      "Attributes:\n",
      "    features:  [3*window^2+month_sin+month_cos+lat+lon+y]\n"
     ]
    }
   ],
   "source": [
    "%load_ext autoreload\n",
    "%autoreload 2\n",
    "from tools.data_meanstd import data_meanstd\n",
    "data_meanstd(window, ver)\n",
    "\n"
   ]
  },
  {
   "cell_type": "code",
   "execution_count": null,
   "id": "9f0279c1-ec50-44f3-9321-254e6c268584",
   "metadata": {},
   "outputs": [],
   "source": []
  }
 ],
 "metadata": {
  "kernelspec": {
   "display_name": "Python 3 (ipykernel)",
   "language": "python",
   "name": "python3"
  },
  "language_info": {
   "codemirror_mode": {
    "name": "ipython",
    "version": 3
   },
   "file_extension": ".py",
   "mimetype": "text/x-python",
   "name": "python",
   "nbconvert_exporter": "python",
   "pygments_lexer": "ipython3",
   "version": "3.8.13"
  }
 },
 "nbformat": 4,
 "nbformat_minor": 5
}
