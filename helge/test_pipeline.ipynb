{
 "cells": [
  {
   "cell_type": "markdown",
   "id": "5cbd44c4-7bec-41e9-ae2f-3bed3f6c0301",
   "metadata": {
    "tags": []
   },
   "source": [
    "# Pipeline to run data on trained model\n",
    "\n",
    "## Parameters"
   ]
  },
  {
   "cell_type": "code",
   "execution_count": 1,
   "id": "04be4c44-66e3-4708-82e0-f2326a3144fa",
   "metadata": {},
   "outputs": [],
   "source": [
    "model_artifact = \"model-mtzxw7nb:v0\"\n",
    "artifact_dir = './artifacts/model-mtzxw7nb:v0'\n",
    "window = -1\n",
    "ver=1\n",
    "\n",
    "climate_model = 'CESM'\n",
    "num_input_time_steps = 3 \n",
    "lead_time = 3\n",
    "all_start_date = '0400-01-01'\n",
    "all_end_date = '2021-12-31'"
   ]
  },
  {
   "cell_type": "markdown",
   "id": "6911399e-c445-4de3-a353-51d2fe288445",
   "metadata": {
    "tags": []
   },
   "source": [
    "## Download best model"
   ]
  },
  {
   "cell_type": "code",
   "execution_count": null,
   "id": "7eee1ad2-b8b1-45cd-b85b-099ad059cb05",
   "metadata": {},
   "outputs": [],
   "source": [
    "import wandb\n",
    "run = wandb.init(project=\"CI2022_Hackathon\", group='CI2022_best_version', job_type='testing')\n",
    "artifact = run.use_artifact('helgemohn/CI2022_Hackathon/'+model_artifact, type='model')\n",
    "artifact_dir = artifact.download()\n",
    "run.finish()"
   ]
  },
  {
   "cell_type": "markdown",
   "id": "d528a44a-76a9-485f-a7ed-b24fcb7f7ebc",
   "metadata": {},
   "source": [
    "## Load best model"
   ]
  },
  {
   "cell_type": "code",
   "execution_count": 2,
   "id": "8850caa7-b856-42aa-82fa-34b28b9d89d1",
   "metadata": {},
   "outputs": [
    {
     "name": "stderr",
     "output_type": "stream",
     "text": [
      "Global seed set to 1\n"
     ]
    },
    {
     "name": "stdout",
     "output_type": "stream",
     "text": [
      "./data/helge_TRAIN_dataset_window-1_sincostime_ver1.nc\n"
     ]
    },
    {
     "data": {
      "text/plain": [
       "DeepNeuralNet(\n",
       "  (model): Sequential(\n",
       "    (0): Siren(\n",
       "      (activation): Sine()\n",
       "    )\n",
       "    (1): Siren(\n",
       "      (activation): Sine()\n",
       "    )\n",
       "    (2): Siren(\n",
       "      (activation): Sine()\n",
       "    )\n",
       "    (3): Siren(\n",
       "      (activation): Sine()\n",
       "    )\n",
       "    (4): Siren(\n",
       "      (activation): Sine()\n",
       "    )\n",
       "    (5): Siren(\n",
       "      (activation): Identity()\n",
       "    )\n",
       "  )\n",
       ")"
      ]
     },
     "execution_count": 2,
     "metadata": {},
     "output_type": "execute_result"
    }
   ],
   "source": [
    "# ------------\n",
    "# hparams\n",
    "# ------------\n",
    "\n",
    "PATH = artifact_dir + '/model.ckpt'\n",
    "\n",
    "from tools.model_siren import DeepNeuralNet\n",
    "from tools.model_dataloader import CI2022_DataModule\n",
    "from tools.model_args import get_args\n",
    "hparams = get_args(DeepNeuralNet, CI2022_DataModule, jupyter_flag=True)\n",
    "\n",
    "from pytorch_lightning import seed_everything\n",
    "seed_everything(hparams.seed)  \n",
    "\n",
    "hparams.gpus = 7\n",
    "hparams.window = window\n",
    "hparams.version = ver\n",
    "hparams.data_path_train = hparams.data_path_train.format(hparams.window, hparams.version)\n",
    "hparams.data_path_test = hparams.data_path_test.format(hparams.window, hparams.version)\n",
    "hparams.data_path_meanstddev = hparams.data_path_meanstddev.format(hparams.window, hparams.version)\n",
    "print(hparams.data_path_train)\n",
    "\n",
    "# ------------\n",
    "# data\n",
    "# ------------\n",
    "data = CI2022_DataModule(hparams)\n",
    "hparams.dim_input = data.dim_input\n",
    "hparams.dim_output = data.dim_output\n",
    "\n",
    "# ------------\n",
    "# model\n",
    "# ------------\n",
    "model = DeepNeuralNet(hparams)\n",
    "\n",
    "import torch\n",
    "checkpoint = torch.load(PATH)\n",
    "model.load_state_dict(checkpoint['state_dict'])\n",
    "epoch = checkpoint['epoch']\n",
    "\n",
    "model.mean_dox = data.mean[-1]\n",
    "model.std_dox = data.std[-1]\n",
    "model.eval()\n"
   ]
  },
  {
   "cell_type": "code",
   "execution_count": 3,
   "id": "0b5768f0-23f6-4637-ac4e-868b4416a487",
   "metadata": {},
   "outputs": [
    {
     "name": "stderr",
     "output_type": "stream",
     "text": [
      "\u001b[34m\u001b[1mwandb\u001b[0m: Currently logged in as: \u001b[33mhelgemohn\u001b[0m (use `wandb login --relogin` to force relogin)\n"
     ]
    },
    {
     "data": {
      "text/html": [
       "wandb version 0.12.16 is available!  To upgrade, please run:\n",
       " $ pip install wandb --upgrade"
      ],
      "text/plain": [
       "<IPython.core.display.HTML object>"
      ]
     },
     "metadata": {},
     "output_type": "display_data"
    },
    {
     "data": {
      "text/html": [
       "Tracking run with wandb version 0.12.15"
      ],
      "text/plain": [
       "<IPython.core.display.HTML object>"
      ]
     },
     "metadata": {},
     "output_type": "display_data"
    },
    {
     "data": {
      "text/html": [
       "Run data is saved locally in <code>/raid/scratch/hmohn/ci2022/helge/wandb/run-20220515_200232-1jh160if</code>"
      ],
      "text/plain": [
       "<IPython.core.display.HTML object>"
      ]
     },
     "metadata": {},
     "output_type": "display_data"
    },
    {
     "data": {
      "text/html": [
       "Syncing run <strong><a href=\"https://wandb.ai/helgemohn/none/runs/1jh160if\" target=\"_blank\">crisp-serenity-6</a></strong> to <a href=\"https://wandb.ai/helgemohn/none\" target=\"_blank\">Weights & Biases</a> (<a href=\"https://wandb.me/run\" target=\"_blank\">docs</a>)<br/>"
      ],
      "text/plain": [
       "<IPython.core.display.HTML object>"
      ]
     },
     "metadata": {},
     "output_type": "display_data"
    },
    {
     "name": "stderr",
     "output_type": "stream",
     "text": [
      "Auto select gpus: [7]\n",
      "/atm_chemmod/swift/swift_nn/miniconda3/envs/swift-ai/lib/python3.8/site-packages/pytorch_lightning/loops/utilities.py:91: PossibleUserWarning: `max_epochs` was not set. Setting it to 1000 epochs. To train without an epoch limit, set `max_epochs=-1`.\n",
      "  rank_zero_warn(\n",
      "GPU available: True, used: True\n",
      "TPU available: False, using: 0 TPU cores\n",
      "IPU available: False, using: 0 IPUs\n",
      "HPU available: False, using: 0 HPUs\n",
      "LOCAL_RANK: 0 - CUDA_VISIBLE_DEVICES: [0,1,2,3,4,5,6,7]\n"
     ]
    },
    {
     "name": "stdout",
     "output_type": "stream",
     "text": [
      "Data loaded (test 1.01e+06)\n"
     ]
    },
    {
     "data": {
      "application/vnd.jupyter.widget-view+json": {
       "model_id": "ee48271cc8ac4ad9a16a4ee241ada7cb",
       "version_major": 2,
       "version_minor": 0
      },
      "text/plain": [
       "Predicting: 0it [00:00, ?it/s]"
      ]
     },
     "metadata": {},
     "output_type": "display_data"
    },
    {
     "name": "stdout",
     "output_type": "stream",
     "text": [
      "[{'predict_loss': array([[-0.00882804],\n",
      "       [-0.3614623 ],\n",
      "       [ 2.3192825 ],\n",
      "       ...,\n",
      "       [-1.3302052 ],\n",
      "       [ 0.28146714],\n",
      "       [ 0.48137465]], dtype=float32)}]\n"
     ]
    },
    {
     "data": {
      "text/plain": [
       "[{'predict_loss': array([[-0.00882804],\n",
       "         [-0.3614623 ],\n",
       "         [ 2.3192825 ],\n",
       "         ...,\n",
       "         [-1.3302052 ],\n",
       "         [ 0.28146714],\n",
       "         [ 0.48137465]], dtype=float32)}]"
      ]
     },
     "execution_count": 3,
     "metadata": {},
     "output_type": "execute_result"
    }
   ],
   "source": [
    "%load_ext autoreload\n",
    "%autoreload 2\n",
    "# ------------\n",
    "# ready to start testing\n",
    "# ------------\n",
    "from tools.model_testing import test\n",
    "prediction = test(model, data, hparams)\n",
    "prediction"
   ]
  },
  {
   "cell_type": "code",
   "execution_count": null,
   "id": "4ed86d22-82e5-4fbd-8174-9ca68c57d4d6",
   "metadata": {},
   "outputs": [],
   "source": []
  },
  {
   "cell_type": "code",
   "execution_count": 5,
   "id": "c496c937-11aa-417b-b7ed-89903e9f9461",
   "metadata": {},
   "outputs": [
    {
     "data": {
      "text/plain": [
       "1012242"
      ]
     },
     "execution_count": 5,
     "metadata": {},
     "output_type": "execute_result"
    }
   ],
   "source": [
    "len(prediction[0]['predict_loss'])"
   ]
  },
  {
   "cell_type": "markdown",
   "id": "949a1d4f-4de9-4476-aa0a-e322ba5a6e4d",
   "metadata": {},
   "source": [
    "## CI2022 Hackathon DATA"
   ]
  },
  {
   "cell_type": "code",
   "execution_count": 1,
   "id": "b3097bcc-f18d-4f49-b9e2-24393ef395dd",
   "metadata": {},
   "outputs": [
    {
     "name": "stdout",
     "output_type": "stream",
     "text": [
      "(120, 13, 20, 3)\n"
     ]
    }
   ],
   "source": [
    "import numpy as np\n",
    "test_input = np.load('./data/test_input.npy')\n",
    "print(test_input.shape)\n"
   ]
  },
  {
   "cell_type": "code",
   "execution_count": 4,
   "id": "54e3956e-2a6f-4490-a168-eac0ed1d5b13",
   "metadata": {},
   "outputs": [],
   "source": [
    "\n",
    "#make sure we have floats in there\n",
    "X = test_input.astype(np.float32)"
   ]
  },
  {
   "cell_type": "code",
   "execution_count": null,
   "id": "29ff896d-851b-49d4-aea9-3b530b4cbbb5",
   "metadata": {},
   "outputs": [],
   "source": []
  },
  {
   "cell_type": "code",
   "execution_count": null,
   "id": "9e8c7719-4a7c-4ded-b679-a25894112310",
   "metadata": {},
   "outputs": [],
   "source": []
  },
  {
   "cell_type": "code",
   "execution_count": null,
   "id": "c336e9c9-afe7-4814-8bb0-3f708861525c",
   "metadata": {
    "tags": []
   },
   "outputs": [],
   "source": [
    "%load_ext autoreload\n",
    "%autoreload 2\n",
    "from tools.data_creation import data_creation\n",
    "data_creation(data_set, window, ver, all_start_date, all_end_date, lead_time, climate_model, num_input_time_steps)\n"
   ]
  },
  {
   "cell_type": "markdown",
   "id": "d5767aac-7085-42ef-a18d-635abb38f35f",
   "metadata": {},
   "source": [
    "## store mean stddev"
   ]
  },
  {
   "cell_type": "code",
   "execution_count": null,
   "id": "f8def21a-0453-4b0e-b092-46109be3715c",
   "metadata": {},
   "outputs": [],
   "source": [
    "%load_ext autoreload\n",
    "%autoreload 2\n",
    "from tools.data_meanstd import data_meanstd\n",
    "data_meanstd(window, ver)\n",
    "\n"
   ]
  },
  {
   "cell_type": "code",
   "execution_count": null,
   "id": "9f0279c1-ec50-44f3-9321-254e6c268584",
   "metadata": {},
   "outputs": [],
   "source": []
  }
 ],
 "metadata": {
  "kernelspec": {
   "display_name": "Python 3 (ipykernel)",
   "language": "python",
   "name": "python3"
  },
  "language_info": {
   "codemirror_mode": {
    "name": "ipython",
    "version": 3
   },
   "file_extension": ".py",
   "mimetype": "text/x-python",
   "name": "python",
   "nbconvert_exporter": "python",
   "pygments_lexer": "ipython3",
   "version": "3.8.13"
  }
 },
 "nbformat": 4,
 "nbformat_minor": 5
}
